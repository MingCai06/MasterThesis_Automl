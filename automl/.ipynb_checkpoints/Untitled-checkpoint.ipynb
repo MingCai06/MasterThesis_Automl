{
 "cells": [
  {
   "cell_type": "code",
   "execution_count": 2,
   "metadata": {},
   "outputs": [],
   "source": [
    "import time\n",
    "import json\n",
    "import os\n",
    "from os.path import join, isfile\n",
    "import sys\n",
    "    \n",
    "\n",
    "def init_dirs():\n",
    "    \n",
    "    if len(sys.argv) == 1:\n",
    "        # default local\n",
    "        root_dir = os.getcwd()\n",
    "        dirs = {\n",
    "            'data': join(root_dir, 'data'),\n",
    "            'output': join(root_dir, 'result_output'),\n",
    "            'prediction': join(root_dir, 'predictions')\n",
    "        }\n",
    "        \n",
    "    elif len(sys.argv) == 3:\n",
    "        # default local\n",
    "        root_dir = os.getcwd()\n",
    "        dirs = {\n",
    "            'data': join(root_dir, 'data'),\n",
    "            'output': join(root_dir, 'result_output'),\n",
    "            'prediction': join(root_dir, 'predictions')\n",
    "        }\n",
    "\n",
    "    elif len(sys.argv) == 3:\n",
    "        # codalab\n",
    "        dirs = {\n",
    "            'data': join(sys.argv[1], 'data'),\n",
    "            'output': sys.argv[2],\n",
    "            'prediction': join(sys.argv[1], 'res')\n",
    "        }\n",
    "\n",
    "    elif len(sys.argv) == 5 and sys.argv[1] == 'local':\n",
    "        # full call in local\n",
    "        dirs = {\n",
    "            'prediction': join(sys.argv[2]),\n",
    "            'ref': join(sys.argv[3]),\n",
    "            'output': sys.argv[4]\n",
    "        }\n",
    "    else:\n",
    "        raise ValueError(\"Wrong number of arguments\")\n",
    "\n",
    "    os.makedirs(dirs['output'], exist_ok=True)\n",
    "    return dirs\n",
    "\n",
    "\n",
    "def write_result(data):\n",
    "    dirs = init_dirs()\n",
    "    datanames = sorted(os.listdir(dirs['data']))[0].split(\".\")[0]\n",
    "    timestr = time.strftime(\"%Y%m%d%H%M%S\")\n",
    "    filename = datanames + timestr + '.json'\n",
    "    \n",
    "    with open(join(dirs['output'],filename), 'w',encoding='utf-8') as json_file:  \n",
    "        json.dump(data, json_file)\n",
    "        \n",
    "        "
   ]
  },
  {
   "cell_type": "code",
   "execution_count": 8,
   "metadata": {},
   "outputs": [
    {
     "data": {
      "text/plain": [
       "'/Users/caicai/Desktop/Masterarbeit/AutoML/Automl_Framework'"
      ]
     },
     "execution_count": 8,
     "metadata": {},
     "output_type": "execute_result"
    }
   ],
   "source": [
    "#os.listdir(\n",
    "os.path.abspath(os.path.join(os.path.dirname(\"__file__\"),os.path.pardir))"
   ]
  },
  {
   "cell_type": "code",
   "execution_count": 9,
   "metadata": {},
   "outputs": [
    {
     "data": {
      "text/plain": [
       "'/Users/caicai/Desktop/Masterarbeit/AutoML/Automl_Framework/automl'"
      ]
     },
     "execution_count": 9,
     "metadata": {},
     "output_type": "execute_result"
    }
   ],
   "source": [
    "os.getcwd()"
   ]
  },
  {
   "cell_type": "code",
   "execution_count": 11,
   "metadata": {},
   "outputs": [
    {
     "data": {
      "text/plain": [
       "'albert'"
      ]
     },
     "execution_count": 11,
     "metadata": {},
     "output_type": "execute_result"
    }
   ],
   "source": [
    "datanames = sorted(os.listdir(dirs['data']))[0].split(\".\")[0]\n",
    "datanames"
   ]
  }
 ],
 "metadata": {
  "kernelspec": {
   "display_name": "Python 3",
   "language": "python",
   "name": "python3"
  },
  "language_info": {
   "codemirror_mode": {
    "name": "ipython",
    "version": 3
   },
   "file_extension": ".py",
   "mimetype": "text/x-python",
   "name": "python",
   "nbconvert_exporter": "python",
   "pygments_lexer": "ipython3",
   "version": "3.7.3"
  },
  "toc": {
   "base_numbering": 1,
   "nav_menu": {},
   "number_sections": true,
   "sideBar": true,
   "skip_h1_title": false,
   "title_cell": "Table of Contents",
   "title_sidebar": "Contents",
   "toc_cell": false,
   "toc_position": {},
   "toc_section_display": true,
   "toc_window_display": false
  }
 },
 "nbformat": 4,
 "nbformat_minor": 2
}
